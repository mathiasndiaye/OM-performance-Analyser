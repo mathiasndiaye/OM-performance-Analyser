{
 "cells": [
  {
   "cell_type": "markdown",
   "id": "9980bf4d-e238-4ac9-85b9-bc244a35c3eb",
   "metadata": {},
   "source": []
  },
  {
   "cell_type": "markdown",
   "id": "77f1a25e-b096-4577-ab12-1ca673a077e9",
   "metadata": {},
   "source": [
    "**Premiers tests - Appel API**"
   ]
  },
  {
   "cell_type": "code",
   "execution_count": null,
   "id": "07ad4609-d42c-480b-81d4-87c291b41718",
   "metadata": {},
   "outputs": [],
   "source": [
    "#Api token \n",
    "API_Token = a9fc599e05724dfcb601b312dd0f18f2\n"
   ]
  }
 ],
 "metadata": {
  "kernelspec": {
   "display_name": "Python 3 (ipykernel)",
   "language": "python",
   "name": "python3"
  },
  "language_info": {
   "codemirror_mode": {
    "name": "ipython",
    "version": 3
   },
   "file_extension": ".py",
   "mimetype": "text/x-python",
   "name": "python",
   "nbconvert_exporter": "python",
   "pygments_lexer": "ipython3",
   "version": "3.10.2"
  }
 },
 "nbformat": 4,
 "nbformat_minor": 5
}
